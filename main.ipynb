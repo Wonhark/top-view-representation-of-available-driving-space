{
 "cells": [
  {
   "cell_type": "code",
   "execution_count": 12,
   "id": "fc8026b3",
   "metadata": {},
   "outputs": [],
   "source": [
    "import torch\n",
    "import numpy as np\n",
    "from numpy import loadtxt\n",
    "from PIL import Image\n",
    "import os, glob\n",
    "\n",
    "from top_view_represent import top_view_representation\n",
    "from monodepth2_master import depth_estimation\n",
    "from DeepLabV3Plus_Pytorch_master import segmentation_predict, network\n",
    "\n",
    "################ image_path = image directory\n",
    "image_path = \"./data/image_02/data\"\n",
    "ext = \"png\"\n",
    "if os.path.isfile(image_path):\n",
    "    # Only testing on a single image\n",
    "    paths = [image_path]\n",
    "elif os.path.isdir(image_path):\n",
    "    # Searching folder for images\n",
    "    paths = glob.glob(os.path.join(image_path, '*.{}'.format(ext)))\n",
    "else:\n",
    "    raise Exception(\"Can not find args.image_path: {}\".format(image_path))\n",
    "\n",
    "output_directory = \"./data/top_view_result\"\n",
    "os.makedirs(output_directory, exist_ok=True)\n",
    "    \n",
    "    \n",
    "##### get NN models\n",
    "segmentation_model = network.modeling.__dict__['deeplabv3plus_mobilenet'](num_classes=19)\n",
    "segmentation_model.load_state_dict( torch.load(\"./DeepLabV3Plus_Pytorch_master/best_deeplabv3plus_mobilenet_cityscapes_os16.pth\" , map_location=torch.device('cpu') )['model_state'])\n",
    "    \n",
    "    \n",
    "for image_path in paths:\n",
    "    \n",
    "    ######## get depth numpy array\n",
    "    depth_np = depth_estimation.depth_estimation_monodepth2(image_path)\n",
    "\n",
    "    ######## get segmentation image\n",
    "    seg_np = segmentation_predict.DeepLabV3Plus_segmentation(image_path, segmentation_model)\n",
    "\n",
    "    ######## get top-view representation image\n",
    "    # get intrinsic matrix\n",
    "    K_path =  \"data/image_02/cam.txt\"\n",
    "    pil_seg_img = top_view_representation(depth_np, seg_np, image_path, K_path)\n",
    "\n",
    "    # save top-view image\n",
    "    image_name = image_path.split('/')[-1]\n",
    "    output_name = os.path.splitext(os.path.basename(image_path))[0]\n",
    "    file_path = os.path.join(output_directory, \"{}_depth.png\".format(output_name))\n",
    "\n",
    "    pil_seg_img.save(file_path)\n",
    "\n",
    "    #pil_seg_img.show()"
   ]
  }
 ],
 "metadata": {
  "kernelspec": {
   "display_name": "Python 3 (ipykernel)",
   "language": "python",
   "name": "python3"
  },
  "language_info": {
   "codemirror_mode": {
    "name": "ipython",
    "version": 3
   },
   "file_extension": ".py",
   "mimetype": "text/x-python",
   "name": "python",
   "nbconvert_exporter": "python",
   "pygments_lexer": "ipython3",
   "version": "3.7.11"
  }
 },
 "nbformat": 4,
 "nbformat_minor": 5
}
